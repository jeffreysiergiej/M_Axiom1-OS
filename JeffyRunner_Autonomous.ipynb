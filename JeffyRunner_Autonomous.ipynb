# JeffyRunner Autonomous Starter

from AxiomCoreEngine import AxiomCoreEngine
import numpy as np

core = AxiomCoreEngine()
input_vector = np.random.rand(9).tolist()
key_part2 = "<YOUR-PRIVATE-KEY-HERE>"  # Replace with your private key half

result = core.process(input_vector, key_part2)
print(result)