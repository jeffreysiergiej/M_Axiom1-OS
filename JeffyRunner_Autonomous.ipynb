{
 "cells": [
  {
   "cell_type": "code",
   "source": [
    "# Clone the repo (optional if already in environment)\n",
    "!git clone https://github.com/jeffreysiergiej/M_Axiom1-OS.git\n"
   ],
   "metadata": {},
   "execution_count": null,
   "outputs": []
  },
  {
   "cell_type": "code",
   "source": [
    "# Install dependencies\n",
    "!pip install -r M_Axiom1-OS/requirements.txt"
   ],
   "metadata": {},
   "execution_count": null,
   "outputs": []
  },
  {
   "cell_type": "code",
   "source": [
    "# Run the Axiom Core Engine\n",
    "%run M_Axiom1-OS/AxiomCoreEngine.py"
   ],
   "metadata": {},
   "execution_count": null,
   "outputs": []
  }
 ],
 "metadata": {
  "colab": {
   "name": "JeffyRunner_Autonomous.ipynb",
   "provenance": []
  },
  "kernelspec": {
   "display_name": "Python 3",
   "language": "python",
   "name": "python3"
  },
  "language_info": {
   "name": "python"
  }
 },
 "nbformat": 4,
 "nbformat_minor": 0
}